{
  "nbformat": 4,
  "nbformat_minor": 0,
  "metadata": {
    "colab": {
      "provenance": [],
      "authorship_tag": "ABX9TyNHVJKbz5sauzspz+rDBJdW",
      "include_colab_link": true
    },
    "kernelspec": {
      "name": "python3",
      "display_name": "Python 3"
    },
    "language_info": {
      "name": "python"
    }
  },
  "cells": [
    {
      "cell_type": "markdown",
      "metadata": {
        "id": "view-in-github",
        "colab_type": "text"
      },
      "source": [
        "<a href=\"https://colab.research.google.com/github/hangjoni/nlp/blob/main/Sentiment_Analysis_Using_Universal_Sentence_Embedder.ipynb\" target=\"_parent\"><img src=\"https://colab.research.google.com/assets/colab-badge.svg\" alt=\"Open In Colab\"/></a>"
      ]
    },
    {
      "cell_type": "markdown",
      "source": [
        "## Preparing data"
      ],
      "metadata": {
        "id": "rqdBCWMdQwin"
      }
    },
    {
      "cell_type": "code",
      "execution_count": 50,
      "metadata": {
        "id": "bJRtM9Vu4BFg"
      },
      "outputs": [],
      "source": [
        "import tensorflow as tf\n",
        "from tensorflow.keras import Sequential\n",
        "from tensorflow.keras.layers import Dense,Input, Dropout\n",
        "from sklearn.utils import shuffle\n",
        "import tensorflow_hub as hub\n",
        "import matplotlib.pyplot as plt\n",
        "from sklearn.model_selection import train_test_split\n",
        "import numpy as np\n",
        "import os\n",
        "import pandas as pd\n",
        "DATASET_ENCODING = \"ISO-8859-1\""
      ]
    },
    {
      "cell_type": "code",
      "source": [
        "!rm -r ~/.kaggle\n",
        "!mkdir ~/.kaggle\n",
        "!mv ./kaggle.json ~/.kaggle/\n",
        "!chmod 600 ~/.kaggle/kaggle.json"
      ],
      "metadata": {
        "id": "rJ9z2lUq5yBm"
      },
      "execution_count": 9,
      "outputs": []
    },
    {
      "cell_type": "code",
      "source": [
        "!if [ -f \"sentiment140.zip\" ]; then echo \"Already downloaded data\"; else kaggle datasets download -d kazanova/sentiment140; fi\n"
      ],
      "metadata": {
        "colab": {
          "base_uri": "https://localhost:8080/"
        },
        "id": "e7E-wAfT530Q",
        "outputId": "73a4f9e1-2d56-4952-db7f-e4752352190f"
      },
      "execution_count": 10,
      "outputs": [
        {
          "output_type": "stream",
          "name": "stdout",
          "text": [
            "Downloading sentiment140.zip to /content\n",
            " 73% 59.0M/80.9M [00:00<00:00, 172MB/s]\n",
            "100% 80.9M/80.9M [00:00<00:00, 180MB/s]\n"
          ]
        }
      ]
    },
    {
      "cell_type": "code",
      "source": [
        "df = pd.read_csv('sentiment140.zip', encoding=DATASET_ENCODING, header=None)\n",
        "df = df.iloc[:,[0,-1]]\n",
        "df.columns=['sentiment', 'tweet']\n",
        "df = pd.concat([df.query(\"sentiment==0\").sample(20000), df.query(\"sentiment==4\").sample(20000)])\n",
        "df.sentiment = df.sentiment.map({0:0, 4:1})\n",
        "df = shuffle(df).reset_index(drop=True)\n",
        "df, df_test = train_test_split(df, test_size=0.2)"
      ],
      "metadata": {
        "id": "NDS8NoAx559o"
      },
      "execution_count": 57,
      "outputs": []
    },
    {
      "cell_type": "code",
      "source": [
        "df.dtypes"
      ],
      "metadata": {
        "colab": {
          "base_uri": "https://localhost:8080/"
        },
        "id": "yxoc_NYuMgj3",
        "outputId": "5e5ba0b1-44e0-4a91-b497-019962067401"
      },
      "execution_count": 58,
      "outputs": [
        {
          "output_type": "execute_result",
          "data": {
            "text/plain": [
              "sentiment     int64\n",
              "tweet        object\n",
              "dtype: object"
            ]
          },
          "metadata": {},
          "execution_count": 58
        }
      ]
    },
    {
      "cell_type": "code",
      "source": [
        "df"
      ],
      "metadata": {
        "colab": {
          "base_uri": "https://localhost:8080/",
          "height": 444
        },
        "id": "nIB9bZ00NDvc",
        "outputId": "c07ad168-5c09-4e31-9915-16a8db39c17c"
      },
      "execution_count": 59,
      "outputs": [
        {
          "output_type": "execute_result",
          "data": {
            "text/plain": [
              "       sentiment                                              tweet\n",
              "35936          0  pray for the people that was at air france rio...\n",
              "7533           1  @fadzzi we going over your place later, hana n...\n",
              "34130          1                @divacoachdabney Will do, thanks!  \n",
              "3155           0  Has just done a small dance because yes you gu...\n",
              "27520          0    @edpryorbeatz F'n self-fulfilling prophecies!! \n",
              "...          ...                                                ...\n",
              "20064          0  @Emz2009 so sad emma  u sad to be leaving the ...\n",
              "15976          0  @lylebignon Ouch!  but also a little bit  beca...\n",
              "22509          0  Hi @wplifestream the ff.im short links beginni...\n",
              "8470           0                       @darker_artic  - A bad one? \n",
              "2914           0               @wlauw ughhh i am already at GM!!!! \n",
              "\n",
              "[32000 rows x 2 columns]"
            ],
            "text/html": [
              "\n",
              "  <div id=\"df-1bde75dc-1d66-4286-8b39-710890197f4c\" class=\"colab-df-container\">\n",
              "    <div>\n",
              "<style scoped>\n",
              "    .dataframe tbody tr th:only-of-type {\n",
              "        vertical-align: middle;\n",
              "    }\n",
              "\n",
              "    .dataframe tbody tr th {\n",
              "        vertical-align: top;\n",
              "    }\n",
              "\n",
              "    .dataframe thead th {\n",
              "        text-align: right;\n",
              "    }\n",
              "</style>\n",
              "<table border=\"1\" class=\"dataframe\">\n",
              "  <thead>\n",
              "    <tr style=\"text-align: right;\">\n",
              "      <th></th>\n",
              "      <th>sentiment</th>\n",
              "      <th>tweet</th>\n",
              "    </tr>\n",
              "  </thead>\n",
              "  <tbody>\n",
              "    <tr>\n",
              "      <th>35936</th>\n",
              "      <td>0</td>\n",
              "      <td>pray for the people that was at air france rio...</td>\n",
              "    </tr>\n",
              "    <tr>\n",
              "      <th>7533</th>\n",
              "      <td>1</td>\n",
              "      <td>@fadzzi we going over your place later, hana n...</td>\n",
              "    </tr>\n",
              "    <tr>\n",
              "      <th>34130</th>\n",
              "      <td>1</td>\n",
              "      <td>@divacoachdabney Will do, thanks!</td>\n",
              "    </tr>\n",
              "    <tr>\n",
              "      <th>3155</th>\n",
              "      <td>0</td>\n",
              "      <td>Has just done a small dance because yes you gu...</td>\n",
              "    </tr>\n",
              "    <tr>\n",
              "      <th>27520</th>\n",
              "      <td>0</td>\n",
              "      <td>@edpryorbeatz F'n self-fulfilling prophecies!!</td>\n",
              "    </tr>\n",
              "    <tr>\n",
              "      <th>...</th>\n",
              "      <td>...</td>\n",
              "      <td>...</td>\n",
              "    </tr>\n",
              "    <tr>\n",
              "      <th>20064</th>\n",
              "      <td>0</td>\n",
              "      <td>@Emz2009 so sad emma  u sad to be leaving the ...</td>\n",
              "    </tr>\n",
              "    <tr>\n",
              "      <th>15976</th>\n",
              "      <td>0</td>\n",
              "      <td>@lylebignon Ouch!  but also a little bit  beca...</td>\n",
              "    </tr>\n",
              "    <tr>\n",
              "      <th>22509</th>\n",
              "      <td>0</td>\n",
              "      <td>Hi @wplifestream the ff.im short links beginni...</td>\n",
              "    </tr>\n",
              "    <tr>\n",
              "      <th>8470</th>\n",
              "      <td>0</td>\n",
              "      <td>@darker_artic  - A bad one?</td>\n",
              "    </tr>\n",
              "    <tr>\n",
              "      <th>2914</th>\n",
              "      <td>0</td>\n",
              "      <td>@wlauw ughhh i am already at GM!!!!</td>\n",
              "    </tr>\n",
              "  </tbody>\n",
              "</table>\n",
              "<p>32000 rows × 2 columns</p>\n",
              "</div>\n",
              "    <div class=\"colab-df-buttons\">\n",
              "\n",
              "  <div class=\"colab-df-container\">\n",
              "    <button class=\"colab-df-convert\" onclick=\"convertToInteractive('df-1bde75dc-1d66-4286-8b39-710890197f4c')\"\n",
              "            title=\"Convert this dataframe to an interactive table.\"\n",
              "            style=\"display:none;\">\n",
              "\n",
              "  <svg xmlns=\"http://www.w3.org/2000/svg\" height=\"24px\" viewBox=\"0 -960 960 960\">\n",
              "    <path d=\"M120-120v-720h720v720H120Zm60-500h600v-160H180v160Zm220 220h160v-160H400v160Zm0 220h160v-160H400v160ZM180-400h160v-160H180v160Zm440 0h160v-160H620v160ZM180-180h160v-160H180v160Zm440 0h160v-160H620v160Z\"/>\n",
              "  </svg>\n",
              "    </button>\n",
              "\n",
              "  <style>\n",
              "    .colab-df-container {\n",
              "      display:flex;\n",
              "      gap: 12px;\n",
              "    }\n",
              "\n",
              "    .colab-df-convert {\n",
              "      background-color: #E8F0FE;\n",
              "      border: none;\n",
              "      border-radius: 50%;\n",
              "      cursor: pointer;\n",
              "      display: none;\n",
              "      fill: #1967D2;\n",
              "      height: 32px;\n",
              "      padding: 0 0 0 0;\n",
              "      width: 32px;\n",
              "    }\n",
              "\n",
              "    .colab-df-convert:hover {\n",
              "      background-color: #E2EBFA;\n",
              "      box-shadow: 0px 1px 2px rgba(60, 64, 67, 0.3), 0px 1px 3px 1px rgba(60, 64, 67, 0.15);\n",
              "      fill: #174EA6;\n",
              "    }\n",
              "\n",
              "    .colab-df-buttons div {\n",
              "      margin-bottom: 4px;\n",
              "    }\n",
              "\n",
              "    [theme=dark] .colab-df-convert {\n",
              "      background-color: #3B4455;\n",
              "      fill: #D2E3FC;\n",
              "    }\n",
              "\n",
              "    [theme=dark] .colab-df-convert:hover {\n",
              "      background-color: #434B5C;\n",
              "      box-shadow: 0px 1px 3px 1px rgba(0, 0, 0, 0.15);\n",
              "      filter: drop-shadow(0px 1px 2px rgba(0, 0, 0, 0.3));\n",
              "      fill: #FFFFFF;\n",
              "    }\n",
              "  </style>\n",
              "\n",
              "    <script>\n",
              "      const buttonEl =\n",
              "        document.querySelector('#df-1bde75dc-1d66-4286-8b39-710890197f4c button.colab-df-convert');\n",
              "      buttonEl.style.display =\n",
              "        google.colab.kernel.accessAllowed ? 'block' : 'none';\n",
              "\n",
              "      async function convertToInteractive(key) {\n",
              "        const element = document.querySelector('#df-1bde75dc-1d66-4286-8b39-710890197f4c');\n",
              "        const dataTable =\n",
              "          await google.colab.kernel.invokeFunction('convertToInteractive',\n",
              "                                                    [key], {});\n",
              "        if (!dataTable) return;\n",
              "\n",
              "        const docLinkHtml = 'Like what you see? Visit the ' +\n",
              "          '<a target=\"_blank\" href=https://colab.research.google.com/notebooks/data_table.ipynb>data table notebook</a>'\n",
              "          + ' to learn more about interactive tables.';\n",
              "        element.innerHTML = '';\n",
              "        dataTable['output_type'] = 'display_data';\n",
              "        await google.colab.output.renderOutput(dataTable, element);\n",
              "        const docLink = document.createElement('div');\n",
              "        docLink.innerHTML = docLinkHtml;\n",
              "        element.appendChild(docLink);\n",
              "      }\n",
              "    </script>\n",
              "  </div>\n",
              "\n",
              "\n",
              "<div id=\"df-bdd50533-52fe-4378-8095-dca2ec18b177\">\n",
              "  <button class=\"colab-df-quickchart\" onclick=\"quickchart('df-bdd50533-52fe-4378-8095-dca2ec18b177')\"\n",
              "            title=\"Suggest charts.\"\n",
              "            style=\"display:none;\">\n",
              "\n",
              "<svg xmlns=\"http://www.w3.org/2000/svg\" height=\"24px\"viewBox=\"0 0 24 24\"\n",
              "     width=\"24px\">\n",
              "    <g>\n",
              "        <path d=\"M19 3H5c-1.1 0-2 .9-2 2v14c0 1.1.9 2 2 2h14c1.1 0 2-.9 2-2V5c0-1.1-.9-2-2-2zM9 17H7v-7h2v7zm4 0h-2V7h2v10zm4 0h-2v-4h2v4z\"/>\n",
              "    </g>\n",
              "</svg>\n",
              "  </button>\n",
              "\n",
              "<style>\n",
              "  .colab-df-quickchart {\n",
              "      --bg-color: #E8F0FE;\n",
              "      --fill-color: #1967D2;\n",
              "      --hover-bg-color: #E2EBFA;\n",
              "      --hover-fill-color: #174EA6;\n",
              "      --disabled-fill-color: #AAA;\n",
              "      --disabled-bg-color: #DDD;\n",
              "  }\n",
              "\n",
              "  [theme=dark] .colab-df-quickchart {\n",
              "      --bg-color: #3B4455;\n",
              "      --fill-color: #D2E3FC;\n",
              "      --hover-bg-color: #434B5C;\n",
              "      --hover-fill-color: #FFFFFF;\n",
              "      --disabled-bg-color: #3B4455;\n",
              "      --disabled-fill-color: #666;\n",
              "  }\n",
              "\n",
              "  .colab-df-quickchart {\n",
              "    background-color: var(--bg-color);\n",
              "    border: none;\n",
              "    border-radius: 50%;\n",
              "    cursor: pointer;\n",
              "    display: none;\n",
              "    fill: var(--fill-color);\n",
              "    height: 32px;\n",
              "    padding: 0;\n",
              "    width: 32px;\n",
              "  }\n",
              "\n",
              "  .colab-df-quickchart:hover {\n",
              "    background-color: var(--hover-bg-color);\n",
              "    box-shadow: 0 1px 2px rgba(60, 64, 67, 0.3), 0 1px 3px 1px rgba(60, 64, 67, 0.15);\n",
              "    fill: var(--button-hover-fill-color);\n",
              "  }\n",
              "\n",
              "  .colab-df-quickchart-complete:disabled,\n",
              "  .colab-df-quickchart-complete:disabled:hover {\n",
              "    background-color: var(--disabled-bg-color);\n",
              "    fill: var(--disabled-fill-color);\n",
              "    box-shadow: none;\n",
              "  }\n",
              "\n",
              "  .colab-df-spinner {\n",
              "    border: 2px solid var(--fill-color);\n",
              "    border-color: transparent;\n",
              "    border-bottom-color: var(--fill-color);\n",
              "    animation:\n",
              "      spin 1s steps(1) infinite;\n",
              "  }\n",
              "\n",
              "  @keyframes spin {\n",
              "    0% {\n",
              "      border-color: transparent;\n",
              "      border-bottom-color: var(--fill-color);\n",
              "      border-left-color: var(--fill-color);\n",
              "    }\n",
              "    20% {\n",
              "      border-color: transparent;\n",
              "      border-left-color: var(--fill-color);\n",
              "      border-top-color: var(--fill-color);\n",
              "    }\n",
              "    30% {\n",
              "      border-color: transparent;\n",
              "      border-left-color: var(--fill-color);\n",
              "      border-top-color: var(--fill-color);\n",
              "      border-right-color: var(--fill-color);\n",
              "    }\n",
              "    40% {\n",
              "      border-color: transparent;\n",
              "      border-right-color: var(--fill-color);\n",
              "      border-top-color: var(--fill-color);\n",
              "    }\n",
              "    60% {\n",
              "      border-color: transparent;\n",
              "      border-right-color: var(--fill-color);\n",
              "    }\n",
              "    80% {\n",
              "      border-color: transparent;\n",
              "      border-right-color: var(--fill-color);\n",
              "      border-bottom-color: var(--fill-color);\n",
              "    }\n",
              "    90% {\n",
              "      border-color: transparent;\n",
              "      border-bottom-color: var(--fill-color);\n",
              "    }\n",
              "  }\n",
              "</style>\n",
              "\n",
              "  <script>\n",
              "    async function quickchart(key) {\n",
              "      const quickchartButtonEl =\n",
              "        document.querySelector('#' + key + ' button');\n",
              "      quickchartButtonEl.disabled = true;  // To prevent multiple clicks.\n",
              "      quickchartButtonEl.classList.add('colab-df-spinner');\n",
              "      try {\n",
              "        const charts = await google.colab.kernel.invokeFunction(\n",
              "            'suggestCharts', [key], {});\n",
              "      } catch (error) {\n",
              "        console.error('Error during call to suggestCharts:', error);\n",
              "      }\n",
              "      quickchartButtonEl.classList.remove('colab-df-spinner');\n",
              "      quickchartButtonEl.classList.add('colab-df-quickchart-complete');\n",
              "    }\n",
              "    (() => {\n",
              "      let quickchartButtonEl =\n",
              "        document.querySelector('#df-bdd50533-52fe-4378-8095-dca2ec18b177 button');\n",
              "      quickchartButtonEl.style.display =\n",
              "        google.colab.kernel.accessAllowed ? 'block' : 'none';\n",
              "    })();\n",
              "  </script>\n",
              "</div>\n",
              "    </div>\n",
              "  </div>\n"
            ]
          },
          "metadata": {},
          "execution_count": 59
        }
      ]
    },
    {
      "cell_type": "code",
      "source": [
        "## Load Universal Sentence Encoder"
      ],
      "metadata": {
        "id": "D1ZeTiic6I5v"
      },
      "execution_count": 39,
      "outputs": []
    },
    {
      "cell_type": "code",
      "source": [
        "embed = hub.load(\"https://tfhub.dev/google/universal-sentence-encoder/4\")"
      ],
      "metadata": {
        "id": "9XAPH19K6IAY"
      },
      "execution_count": 40,
      "outputs": []
    },
    {
      "cell_type": "code",
      "source": [
        "embed(['Python is a functional programming language']).numpy().shape"
      ],
      "metadata": {
        "colab": {
          "base_uri": "https://localhost:8080/"
        },
        "id": "lMMu7bTg6QZW",
        "outputId": "3f0d93ab-b19a-4b16-88b7-2d9362e1bfee"
      },
      "execution_count": 14,
      "outputs": [
        {
          "output_type": "execute_result",
          "data": {
            "text/plain": [
              "(1, 512)"
            ]
          },
          "metadata": {},
          "execution_count": 14
        }
      ]
    },
    {
      "cell_type": "code",
      "source": [
        "def vectorize(df):\n",
        "  embedded_tweets = embed(df['tweet'].values.tolist()).numpy()\n",
        "  targets = df.sentiment.values\n",
        "  return embedded_tweets, targets\n",
        "\n",
        "embedded_tweets, targets = vectorize(df)"
      ],
      "metadata": {
        "id": "gwgvSU_i6bgG"
      },
      "execution_count": 61,
      "outputs": []
    },
    {
      "cell_type": "markdown",
      "source": [
        "## Model"
      ],
      "metadata": {
        "id": "pvMknS3z6wCn"
      }
    },
    {
      "cell_type": "code",
      "source": [
        "model = Sequential()\n",
        "model.add(Input(shape=(512,),dtype='float32'))\n",
        "model.add(Dense(128, activation = 'relu'))\n",
        "model.add(Dropout(0.5))\n",
        "model.add(Dense(64, activation = 'relu'))\n",
        "model.add(Dropout(0.5))\n",
        "model.add(Dense(1, activation = 'sigmoid'))\n",
        "\n",
        "model.compile(loss='binary_crossentropy',\n",
        "              optimizer='adam',\n",
        "              metrics=['acc'])"
      ],
      "metadata": {
        "id": "r9q5zc0U6sFr"
      },
      "execution_count": 65,
      "outputs": []
    },
    {
      "cell_type": "code",
      "source": [
        "model.summary()"
      ],
      "metadata": {
        "colab": {
          "base_uri": "https://localhost:8080/"
        },
        "id": "fU43cV6060Lf",
        "outputId": "05d46fe4-f15d-4627-ed83-66f1d9583f2c"
      },
      "execution_count": 66,
      "outputs": [
        {
          "output_type": "stream",
          "name": "stdout",
          "text": [
            "Model: \"sequential_7\"\n",
            "_________________________________________________________________\n",
            " Layer (type)                Output Shape              Param #   \n",
            "=================================================================\n",
            " dense_19 (Dense)            (None, 128)               65664     \n",
            "                                                                 \n",
            " dropout_6 (Dropout)         (None, 128)               0         \n",
            "                                                                 \n",
            " dense_20 (Dense)            (None, 64)                8256      \n",
            "                                                                 \n",
            " dropout_7 (Dropout)         (None, 64)                0         \n",
            "                                                                 \n",
            " dense_21 (Dense)            (None, 1)                 65        \n",
            "                                                                 \n",
            "=================================================================\n",
            "Total params: 73985 (289.00 KB)\n",
            "Trainable params: 73985 (289.00 KB)\n",
            "Non-trainable params: 0 (0.00 Byte)\n",
            "_________________________________________________________________\n"
          ]
        }
      ]
    },
    {
      "cell_type": "markdown",
      "source": [
        "## Train and evaluate"
      ],
      "metadata": {
        "id": "OcUuo62366B7"
      }
    },
    {
      "cell_type": "code",
      "source": [
        "num_epochs = 10\n",
        "batch_size = 32\n",
        "\n",
        "history = model.fit(embedded_tweets,\n",
        "                    targets,\n",
        "                    epochs = num_epochs,\n",
        "                    validation_split=0.1,\n",
        "                    shuffle=True,\n",
        "                    batch_size=batch_size)"
      ],
      "metadata": {
        "colab": {
          "base_uri": "https://localhost:8080/"
        },
        "id": "bsuaPeeC62be",
        "outputId": "4409ac38-d3c0-4207-a282-337cb8ea9bc5"
      },
      "execution_count": 67,
      "outputs": [
        {
          "output_type": "stream",
          "name": "stdout",
          "text": [
            "Epoch 1/10\n",
            "900/900 [==============================] - 3s 3ms/step - loss: 0.5060 - acc: 0.7564 - val_loss: 0.4740 - val_acc: 0.7703\n",
            "Epoch 2/10\n",
            "900/900 [==============================] - 3s 3ms/step - loss: 0.4668 - acc: 0.7833 - val_loss: 0.4725 - val_acc: 0.7700\n",
            "Epoch 3/10\n",
            "900/900 [==============================] - 2s 2ms/step - loss: 0.4553 - acc: 0.7903 - val_loss: 0.4708 - val_acc: 0.7688\n",
            "Epoch 4/10\n",
            "900/900 [==============================] - 2s 2ms/step - loss: 0.4388 - acc: 0.8015 - val_loss: 0.4695 - val_acc: 0.7716\n",
            "Epoch 5/10\n",
            "900/900 [==============================] - 2s 2ms/step - loss: 0.4284 - acc: 0.8064 - val_loss: 0.4742 - val_acc: 0.7681\n",
            "Epoch 6/10\n",
            "900/900 [==============================] - 2s 2ms/step - loss: 0.4150 - acc: 0.8150 - val_loss: 0.4719 - val_acc: 0.7688\n",
            "Epoch 7/10\n",
            "900/900 [==============================] - 3s 3ms/step - loss: 0.4019 - acc: 0.8223 - val_loss: 0.4798 - val_acc: 0.7666\n",
            "Epoch 8/10\n",
            "900/900 [==============================] - 2s 2ms/step - loss: 0.3890 - acc: 0.8295 - val_loss: 0.4832 - val_acc: 0.7728\n",
            "Epoch 9/10\n",
            "900/900 [==============================] - 2s 2ms/step - loss: 0.3759 - acc: 0.8386 - val_loss: 0.5023 - val_acc: 0.7688\n",
            "Epoch 10/10\n",
            "900/900 [==============================] - 2s 2ms/step - loss: 0.3699 - acc: 0.8399 - val_loss: 0.4927 - val_acc: 0.7694\n"
          ]
        }
      ]
    },
    {
      "cell_type": "code",
      "source": [
        "import matplotlib.pyplot as plt\n",
        "\n",
        "# Figure 1: Model Accuracy\n",
        "plt.figure(figsize=(12, 5))  # Set the overall figure size\n",
        "\n",
        "# First subplot for accuracy\n",
        "plt.subplot(1, 2, 1)  # 1 row, 2 columns, 1st plot\n",
        "plt.plot(history.history['acc'], label='train')\n",
        "plt.plot(history.history['val_acc'], label='test')\n",
        "plt.title('Model Accuracy')\n",
        "plt.ylabel('Accuracy')\n",
        "plt.xlabel('Epoch')\n",
        "plt.legend(loc='upper left')\n",
        "\n",
        "# Second subplot for loss\n",
        "plt.subplot(1, 2, 2)  # 1 row, 2 columns, 2nd plot\n",
        "plt.plot(history.history['loss'], label='train')\n",
        "plt.plot(history.history['val_loss'], label='test')\n",
        "plt.title('Model Loss')\n",
        "plt.ylabel('Loss')  # Fixed label to 'Loss'\n",
        "plt.xlabel('Epoch')\n",
        "plt.legend(loc='upper left')\n",
        "\n",
        "# Display the plots\n",
        "plt.tight_layout()  # Adjust spacing between plots\n",
        "plt.show()\n"
      ],
      "metadata": {
        "colab": {
          "base_uri": "https://localhost:8080/",
          "height": 523
        },
        "id": "OvgEqIFt7JOk",
        "outputId": "00ed2904-6ac4-40ae-f0e2-a9e619c58bb4"
      },
      "execution_count": 68,
      "outputs": [
        {
          "output_type": "display_data",
          "data": {
            "text/plain": [
              "<Figure size 1200x500 with 2 Axes>"
            ],
            "image/png": "[encoded data removed]"
          },
          "metadata": {}
        }
      ]
    },
    {
      "cell_type": "markdown",
      "source": [
        "Loss looks rather weird"
      ],
      "metadata": {
        "id": "Hiem2ptC70Ud"
      }
    },
    {
      "cell_type": "code",
      "source": [
        "from sklearn.metrics import accuracy_score\n",
        "embed_test,targets_test = vectorize(df_test)\n",
        "predictions = model.predict(embed_test).astype(int)\n",
        "accuracy_score(predictions,targets_test)*100"
      ],
      "metadata": {
        "colab": {
          "base_uri": "https://localhost:8080/"
        },
        "id": "aI54WPEz7SGq",
        "outputId": "6e71cdae-f6be-44ea-9de3-f5775179ffc0"
      },
      "execution_count": 69,
      "outputs": [
        {
          "output_type": "stream",
          "name": "stdout",
          "text": [
            "250/250 [==============================] - 0s 1ms/step\n"
          ]
        },
        {
          "output_type": "execute_result",
          "data": {
            "text/plain": [
              "50.837500000000006"
            ]
          },
          "metadata": {},
          "execution_count": 69
        }
      ]
    },
    {
      "cell_type": "markdown",
      "source": [
        "- The model is a simple multi-layer perceptron which overfit quickly. Test performance attains only 50% accuracy\n",
        "- Areas to improve:\n",
        "1. Investigate whether Universal Sentence Embedding could be replaced with a better language model\n",
        "2. Improve the architecture of the model: tune drop out, try different sizes, try CNN or RNN\n",
        "3. Use pre-training like in ULMFit\n",
        "4. Use triangle learning rate like in ULMFit"
      ],
      "metadata": {
        "id": "6NRFdgHuzdl4"
      }
    },
    {
      "cell_type": "code",
      "source": [],
      "metadata": {
        "id": "6M4SDHg-76h8"
      },
      "execution_count": null,
      "outputs": []
    }
  ]
}